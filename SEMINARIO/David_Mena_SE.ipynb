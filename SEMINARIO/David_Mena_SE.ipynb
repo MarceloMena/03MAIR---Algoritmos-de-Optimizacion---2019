{
  "nbformat": 4,
  "nbformat_minor": 0,
  "metadata": {
    "colab": {
      "name": "David Mena - SE.ipynb",
      "provenance": [],
      "collapsed_sections": [],
      "include_colab_link": true
    },
    "kernelspec": {
      "name": "python3",
      "display_name": "Python 3"
    }
  },
  "cells": [
    {
      "cell_type": "markdown",
      "metadata": {
        "id": "view-in-github",
        "colab_type": "text"
      },
      "source": [
        "<a href=\"https://colab.research.google.com/github/MarceloMena/03MAIR---Algoritmos-de-Optimizacion---2019/blob/master/SEMINARIO/David_Mena_SE.ipynb\" target=\"_parent\"><img src=\"https://colab.research.google.com/assets/colab-badge.svg\" alt=\"Open In Colab\"/></a>"
      ]
    },
    {
      "cell_type": "markdown",
      "metadata": {
        "id": "hVbXYX-RfPWh",
        "colab_type": "text"
      },
      "source": [
        "# Algoritmos de optimización - Seminario<br>\n",
        "Nombre y Apellidos:   David Marcelo Mena Ruiz\n",
        "Url: https://colab.research.google.com/drive/1oiisb9CRRhCSwPXEPqpEriWXxx-yi5tO<br>\n",
        "Problema:\n",
        "> Organizar los horarios de partidos de La Liga<br>\n",
        "\n",
        "Descripción del problema:(copiar enunciado)\n",
        "\n",
        "Desde la La Liga de fútbol profesional se pretende organizar los horarios de los partidos\n",
        "de liga de cada jornada. Se conocen algunos datos que nos deben llevar a diseñar un\n",
        "algoritmo que realice la asignación de los partidos a los horarios de forma que maximice\n",
        "la audiencia.\n",
        "\n",
        "\n",
        "\n",
        "\n",
        "                                        "
      ]
    },
    {
      "cell_type": "code",
      "metadata": {
        "id": "XTKaQaRLhHeY",
        "colab_type": "code",
        "colab": {}
      },
      "source": [
        "import numpy as np\n",
        "import pandas as pd\n",
        "import random\n",
        "import copy\n",
        "import itertools\n",
        "import math"
      ],
      "execution_count": 0,
      "outputs": []
    },
    {
      "cell_type": "code",
      "metadata": {
        "id": "qmjZEN17hKhK",
        "colab_type": "code",
        "colab": {}
      },
      "source": [
        "EQUIPOS =['Celta','Real Madrid','Valencia','Real Sociedad',\n",
        "         'Mallorca','Eibar','Athletic', 'Barcelona',\n",
        "         'Leganes','Osasuna','Villareal','Granada',\n",
        "         'Alaves','Levante','Espanyol','Sevilla',\n",
        "         'Valladolid','Betis','Atletico','Getafe']\n",
        "\n",
        "CATEGORIAS = {'CAT_A': ['Celta','Real Madrid','Valencia','Real Sociedad'],\n",
        "             'CAT_B': ['Mallorca','Eibar','Athletic', 'Barcelona',\n",
        "                       'Leganes','Osasuna','Villareal','Granada',\n",
        "                       'Alaves','Levante'],\n",
        "             'CAT_C': ['Espanyol','Sevilla','Valladolid','Betis','Atletico','Getafe']}"
      ],
      "execution_count": 0,
      "outputs": []
    },
    {
      "cell_type": "code",
      "metadata": {
        "id": "AiskKkzZfy4e",
        "colab_type": "code",
        "colab": {}
      },
      "source": [
        "## algoritmo generador de partidos, une dos equipos de manera ##\n",
        "## aleatoria hasta que todos estan asignados en diferentes partidos ##\n",
        "## solo puede asignarse un equipo una vez en la jornada ##\n",
        "\n",
        "def generar_partidos(EQUIP):\n",
        "    random.shuffle(EQUIP)\n",
        "    HOR = []\n",
        "    i=0\n",
        "    while 2*len(HOR) < len(EQUIP) :\n",
        "        N_PART =  2*i\n",
        "        A = EQUIP[N_PART]\n",
        "        B = EQUIP[N_PART+1]\n",
        "        C = (A,B)\n",
        "        HOR.append(C)\n",
        "        i += 1\n",
        "    return HOR\n",
        "\n",
        "PARTIDOS = generar_partidos(EQUIPOS)\n",
        "PARTIDOS\n",
        "\n",
        "\n",
        "## Como entrada recibe los partidos generados anteriormente ##\n",
        "## y salida retorna los valores de audiencia de cada partido ##\n",
        "## Calcula la audiencia de cada partidos dependiendo de ##\n",
        "## de las categorias de los equipos A, B o C\n",
        "\n",
        "def audiencia(N):\n",
        "    HOR = N\n",
        "    AUDIENCIA = []\n",
        "    for i in range(len(HOR)):\n",
        "        equipo_1, equipo_2 = HOR[i]\n",
        "        cat_a = CATEGORIAS.get('CAT_A')\n",
        "        cat_b = CATEGORIAS.get('CAT_B')\n",
        "        cat_c = CATEGORIAS.get('CAT_C')\n",
        "        if equipo_1 in cat_a:\n",
        "            if equipo_2 in cat_a:\n",
        "                AUDIENCIA.append(2)\n",
        "            if equipo_2 in cat_b:\n",
        "                AUDIENCIA.append(1.3)\n",
        "            if equipo_2 in cat_c:\n",
        "                AUDIENCIA.append(1)\n",
        "        if equipo_1 in cat_b:\n",
        "            if equipo_2 in cat_a:\n",
        "                AUDIENCIA.append(1.3)\n",
        "            if equipo_2 in cat_b:\n",
        "                AUDIENCIA.append(0.9)\n",
        "            if equipo_2 in cat_c:\n",
        "                AUDIENCIA.append(0.75)\n",
        "        if equipo_1 in cat_c:\n",
        "            if equipo_2 in cat_a:\n",
        "                AUDIENCIA.append(1)\n",
        "            if equipo_2 in cat_b:\n",
        "                AUDIENCIA.append(0.75)\n",
        "            if equipo_2 in cat_c:\n",
        "                AUDIENCIA.append(0.47)\n",
        "    return AUDIENCIA\n",
        "\n",
        "AUDIENCIA_POR_CATEGORIA = audiencia(PARTIDOS)\n",
        "\n",
        "### Calculo de solucion con fuerza bruta ###\n",
        "### Al ser el numero de soluciones sin repeticion de horario ##\n",
        "\n",
        "COSTES = AUDIENCIA_POR_CATEGORIA\n",
        "\n",
        "def fuerza_bruta(COSTES):\n",
        "    mejor_valor = 0\n",
        "    mejor_solucion = ''\n",
        "    PFB = list(itertools.permutations(COSTES))\n",
        "    PARFB = list(itertools.permutations(range(len(COSTES))))\n",
        "    for s in range(len(PFB)):\n",
        "        valor_tmp = 0.4*PFB[s][0] + 0.4*PFB[s][1] + 0.75*PFB[s][2] + 0.8*PFB[s][3] + PFB[s][4] + 0.55*PFB[s][5] + 0.7*PFB[s][6] + 0.5*PFB[s][7] + PFB[s][8] + 0.4*PFB[s][9]\n",
        "        if valor_tmp > mejor_valor:\n",
        "            mejor_solucion = PARFB[s]\n",
        "            mejor_valor = valor_tmp\n",
        "    print('la mejor solucion por fuerza bruta es: ',  mejor_solucion, '\\ncon una audiencia de: ', mejor_valor, \"\\n\")\n",
        "    return mejor_solucion, mejor_valor\n",
        "\n",
        "### Calculo de Auidiencia tomando en cuenta una lista que ###\n",
        "### contiene los vectores de cada uno de los horarios ###\n",
        "\n",
        "def audiencia_final(M):\n",
        "    V20,S12,S16,S18,S20,D12,D16,D18,D20,L20 = M\n",
        "    AUDIENCIA_JORNADA = 0.4*calculador_audiencia(V20) + 0.4*calculador_audiencia(S12) + 0.75*calculador_audiencia(S16) + 0.8*calculador_audiencia(S18) + calculador_audiencia(S20) + 0.55*calculador_audiencia(D12) + 0.7*calculador_audiencia(D16) + 0.5*calculador_audiencia(D18) + calculador_audiencia(D20) + 0.4*calculador_audiencia(L20)\n",
        "    return(AUDIENCIA_JORNADA)\n",
        "\n",
        "### Calculo de la audiencia para la primera corrida del ###\n",
        "### algoritmo genetico donde se genera la primera poblacion  aleatoria ###\n",
        "\n",
        "def calculador_audiencia_jornada(JORNADA):\n",
        "    V20,S12,S16,S18,S20,D12,D16,D18,D20,L20 = JORNADA\n",
        "    AUDIENCIA_JORNADA = 0.4*sum(V20) + 0.4*sum(S12) + 0.75*sum(S16) + 0.8*sum(S18) + sum(S20) + 0.55*sum(D12) + 0.7*sum(D16) + 0.5*sum(D18) + sum(D20) + 0.4*sum(L20)\n",
        "    return(AUDIENCIA_JORNADA)\n",
        "\n",
        "### Calculo de la audiencia final, teniendo un vector de    ###\n",
        "### posiciones de cada partido, y un vector donde estan las ###\n",
        "### audiencias dependiendo de las categorias de los equipos ###\n",
        "\n",
        "def calculo_final(SOLU_PARC,AUDIENCIA_POR_CATEGORIA):\n",
        "    JORNADA = ordenador_por_jornada(SOLU_PARC,AUDIENCIA_POR_CATEGORIA)\n",
        "    AUDIENCIA_FINAL = calculador_audiencia_jornada(JORNADA)\n",
        "    return(AUDIENCIA_FINAL)\n",
        "\n",
        "## Asigna los horarios de los partidos de manera aleatoria ##\n",
        "## entrada son los partidos definidos en el generador_partidos ##\n",
        "## para la primera parte del algoritmo genetico ##\n",
        "\n",
        "def asignacion_horarios(HOR):\n",
        "    V20 = []\n",
        "    S12 = []\n",
        "    S16 = []\n",
        "    S18 = []\n",
        "    S20 = []\n",
        "    D12 = []\n",
        "    D16 = []\n",
        "    D18 = []\n",
        "    D20 = []\n",
        "    L20 = []\n",
        "    POSICION = []\n",
        "    N = len(HOR)\n",
        "    PROGRAMACION = list(np.zeros(N))\n",
        "    for i in range(N):\n",
        "        ind_al = random.randint(0,9)\n",
        "        POSICION.append(ind_al)\n",
        "        if ind_al == 0:\n",
        "            V20.append(HOR[i])\n",
        "        if ind_al == 1:\n",
        "            S12.append(HOR[i])\n",
        "        if ind_al == 2:\n",
        "            S16.append(HOR[i])\n",
        "        if ind_al == 3:\n",
        "            S18.append(HOR[i])\n",
        "        if ind_al == 4:\n",
        "            S20.append(HOR[i])\n",
        "        if ind_al == 5:\n",
        "            D12.append(HOR[i])\n",
        "        if ind_al == 6:\n",
        "            D16.append(HOR[i])\n",
        "        if ind_al == 7:\n",
        "            D18.append(HOR[i])\n",
        "        if ind_al == 8:\n",
        "            D20.append(HOR[i])\n",
        "        if ind_al == 9:\n",
        "            L20.append(HOR[i])\n",
        "    JORNADA = [V20,S12,S16,S18,S20,D12,D16,D18,D20,L20]\n",
        "    return JORNADA,POSICION\n",
        "\n",
        "## Realiza la operacion ya con el vector de posicion generado ###\n",
        "## con los hijos del algoritmo genetico ##\n",
        "\n",
        "def ordenador_por_jornada(HIJA,AUDIENCIA_HORARIO):\n",
        "    HORARIOS_PARTIDOS = []\n",
        "    V20 = []\n",
        "    S12 = []\n",
        "    S16 = []\n",
        "    S18 = []\n",
        "    S20 = []\n",
        "    D12 = []\n",
        "    D16 = []\n",
        "    D18 = []\n",
        "    D20 = []\n",
        "    L20 = []\n",
        "    for i in range(len(HIJA)):\n",
        "        if HIJA[i] == 0:\n",
        "            V20.append(AUDIENCIA_HORARIO[i])\n",
        "        if HIJA[i] == 1:\n",
        "            S12.append(AUDIENCIA_HORARIO[i])\n",
        "        if HIJA[i] == 2:\n",
        "            S16.append(AUDIENCIA_HORARIO[i])\n",
        "        if HIJA[i] == 3:\n",
        "            S18.append(AUDIENCIA_HORARIO[i])\n",
        "        if HIJA[i] == 4:\n",
        "            S20.append(AUDIENCIA_HORARIO[i])\n",
        "        if HIJA[i] == 5:\n",
        "            D12.append(AUDIENCIA_HORARIO[i])\n",
        "        if HIJA[i] == 6:\n",
        "            D16.append(AUDIENCIA_HORARIO[i])\n",
        "        if HIJA[i] == 7:\n",
        "            D18.append(AUDIENCIA_HORARIO[i])\n",
        "        if HIJA[i] == 8:\n",
        "            D20.append(AUDIENCIA_HORARIO[i])\n",
        "        if HIJA[i] == 9:\n",
        "            L20.append(AUDIENCIA_HORARIO[i])\n",
        "    JORNADA = [V20,S12,S16,S18,S20,D12,D16,D18,D20,L20]\n",
        "    return JORNADA\n",
        "  \n",
        "## funcion que calcula el porcentaje deacuerdo al numero de ##\n",
        "## coincidencias dependiendo del numero de partidos en el mismo horario ##\n",
        "\n",
        "def coincidencias(N):\n",
        "    NUM_PARTIDOS = len(N)\n",
        "    if NUM_PARTIDOS == 0:\n",
        "        porc_dismin = 1\n",
        "    if NUM_PARTIDOS == 1:\n",
        "        porc_dismin = 0.75\n",
        "    if NUM_PARTIDOS == 2:\n",
        "        porc_dismin = 0.55\n",
        "    if NUM_PARTIDOS == 3:\n",
        "        porc_dismin = 0.40\n",
        "    if NUM_PARTIDOS == 4:\n",
        "        porc_dismin = 0.3\n",
        "    if NUM_PARTIDOS == 5:\n",
        "        porc_dismin = 0.25\n",
        "    if NUM_PARTIDOS == 6:\n",
        "        porc_dismin = 0.22\n",
        "    if NUM_PARTIDOS == 7:\n",
        "        porc_dismin = 0.2\n",
        "    if NUM_PARTIDOS == 8:\n",
        "        porc_dismin = 0.2\n",
        "    return porc_dismin\n",
        "\n",
        "## Calcula la audiencia total en cada partido con el nummero de coincidencias ##\n",
        "## antes de ser introducido a los factores de horario\n",
        "def calculador_audiencia(X):\n",
        "    N = audiencia(X)\n",
        "    SUMA_AUDIENCIAS = sum(N)\n",
        "    FACT_COIN = coincidencias(N)\n",
        "    AUD_HOR = SUMA_AUDIENCIAS*coincidencias(N)\n",
        "    return AUD_HOR \n",
        "  \n",
        "## Generador de cruce en una pablacion a medida que se genera una descendencia ##\n",
        "\n",
        "def Cruzar(poblacion,mutacion, VECT_POS):\n",
        "    poblacion_copia = copy.deepcopy(poblacion)\n",
        "    poblacion_final = copy.deepcopy(poblacion)\n",
        "    while len(poblacion_copia) > 1:  \n",
        "        padre1,padre2 = random.sample(poblacion_copia   ,2)\n",
        "        poblacion_copia.remove(padre1)\n",
        "        poblacion_copia.remove(padre2)\n",
        "        poblacion_final.extend(Descendencia([padre1,padre2],VECT_POS,mutacion))\n",
        "    return poblacion_final\n",
        "\n",
        "## Calculador de descendecia con dos padres cortados en dos puntos aleatorios ##\n",
        "## introduce la mutacion de los hijos ##\n",
        "def Descendencia(padres, problem, mutacion):\n",
        "    pc = random.sample( range(1,len(padres[0])),1)[0]\n",
        "    hijo1 =  padres[0][:pc] + padres[1][pc:]\n",
        "    hijo2 =  padres[1][:pc] + padres[0][pc:]\n",
        "    return [hijo1,hijo2,Mutar(hijo1,mutacion),Mutar(hijo2,mutacion)]\n",
        "\n",
        "## Mutacion de los hijos de acuerdo a un generador aleatorio donde se ##\n",
        "## intercambian las posiciones de dos valores en posiciones aleatorias ##\n",
        "def Mutar(solucion,mutacion):\n",
        "    if random.random() < mutacion:\n",
        "        sel1,sel2 = sorted(random.sample(set(solucion)-{solucion[0]},2))\n",
        "        return solucion[:sel1] + [solucion[sel2]] + solucion[sel1+1:sel2] + [solucion[sel1]]  + solucion[sel2+1:] \n",
        "    else:\n",
        "        return solucion[::] \n",
        "      \n",
        "## Se seleccionan los hijos y padres que pasaran a la segunda generacion para ##\n",
        "## su evaluacion de acuerdo a la funcion de elitismo y el numero total de la ##\n",
        "## poblacion ordenados de mayor a menor ##\n",
        "    \n",
        "def Seleccionar(problem,poblacion, N, elitismo, AUDIENCIA_POR_CATEGORIA):\n",
        "    poblacion_ordenada = sorted([ [calculo_final(problem, AUDIENCIA_POR_CATEGORIA), problem] for problem in poblacion ], key= lambda x:x[0] )\n",
        "    return [x[1] for x in poblacion_ordenada][:int(N*elitismo)]  + random.sample([x[1] for x in poblacion_ordenada][int(N*elitismo):] , int(N*(1-elitismo))) \n",
        "  \n",
        "## Evaluacion de toda la poblacion generada para encontrar la mejor solcion de ##\n",
        "## cada generacion y asi almacenarla para comparar en la siguiente generacion ##\n",
        "def evaluar_poblacion(poblacion, AUDIENCIA_POR_CATEGORIA,MEJOR_AUDIENCIA,MEJOR_HORARIO):\n",
        "    for i in range(len(poblacion)):\n",
        "        audiencia_hijo = calculo_final(poblacion[i], AUDIENCIA_POR_CATEGORIA)\n",
        "        horario_hijo = poblacion[i]\n",
        "        mejor_horario = MEJOR_HORARIO\n",
        "        mejor_audiencia = MEJOR_AUDIENCIA\n",
        "        if audiencia_hijo > mejor_audiencia:\n",
        "            mejor_audiencia = audiencia_hijo\n",
        "            mejor_horario = horario_hijo\n",
        "    return mejor_audiencia, mejor_horario\n",
        "\n",
        "## algoritmo genetico que como entrada requiere##\n",
        "## PARTIDOS: partidos generados con funcion generador_partidos\n",
        "## N: Poblacion\n",
        "## GENERACIONES: numero de generaciones a realizar\n",
        "## mutacion: porcentaje de mutaciones a realizar por cada hijo\n",
        "## fitness: elitismo entre generaciones\n",
        "\n",
        "def algoritmo_genetico(PARTIDOS, N, GENERACIONES, mutacion, fitness):\n",
        "    PADRES = []\n",
        "    VECT_POS = []\n",
        "    VECT_AUD = []\n",
        "    VECT_HOR = []\n",
        "    AUDIENCIA_POR_CATEGORIA = audiencia(PARTIDOS)\n",
        "    MEJOR_HORARIO,POSICION = asignacion_horarios(PARTIDOS)\n",
        "    MEJOR_AUDIENCIA = audiencia_final(MEJOR_HORARIO)\n",
        "    # Generador de poblacion inicial\n",
        "    for i in range(N):\n",
        "        HORARIO_GENERADO, POSICION = asignacion_horarios(PARTIDOS)\n",
        "        AUDIENCIA_HORARIO = audiencia_final(HORARIO_GENERADO)\n",
        "        CONCATENADO = (HORARIO_GENERADO,POSICION,AUDIENCIA_HORARIO)\n",
        "        PADRES.append(CONCATENADO)\n",
        "        VECT_POS.append(POSICION) #lista que almacena las jornadas generadas\n",
        "        VECT_AUD.append(AUDIENCIA_HORARIO)\n",
        "        VECT_HOR.append(HORARIO_GENERADO)\n",
        "        # Busqueda de mejor horario y mejor audiencia #\n",
        "        # en primera poblacion #\n",
        "        if AUDIENCIA_HORARIO > MEJOR_AUDIENCIA:\n",
        "            MEJOR_HORARIO = HORARIO_GENERADO\n",
        "            MEJOR_AUDIENCIA = AUDIENCIA_HORARIO\n",
        "    # Generaciones\n",
        "    for i in range(GENERACIONES):\n",
        "        poblacion = Cruzar(VECT_POS, mutacion, PARTIDOS) #Genera los hijos\n",
        "        # Selecciona de todos los hijos y padres segun funcion de elitismo #\n",
        "        # que tengan una mayor audiencia y los selecciona de manera que en su#\n",
        "        # poblacion no exceda la poblacion solicitada inicalmente #\n",
        "        poblacion = Seleccionar(VECT_POS,VECT_POS, N, fitness,AUDIENCIA_POR_CATEGORIA) \n",
        "        # Busqueda de la mejor solucion y la mejor audiencia en cada generacion #\n",
        "        # la mejor solucion para poder comparar en las futuras generaciones #\n",
        "        MEJOR_AUDIENCIA, MEJOR_HORARIO = evaluar_poblacion(poblacion, AUDIENCIA_POR_CATEGORIA,MEJOR_AUDIENCIA,MEJOR_HORARIO)\n",
        "  \n",
        "    print(\"Generacion #\", i, \"\\nLa mejor solución es:\" , MEJOR_HORARIO, \"\\ncon audiencia \" , MEJOR_AUDIENCIA, \"\\n\")   \n",
        "    return MEJOR_AUDIENCIA, MEJOR_HORARIO\n",
        "\n",
        "\n",
        "# Funcion que nos permite traducir los horarios por partido a un horario #\n",
        "# con los partidos que se jugaran por dia #\n",
        "def presentador(MEJOR_AUDIENCIA, MEJOR_HORARIO,PARTIDOS):\n",
        "  JORNADA = ordenador_por_jornada(MEJOR_HORARIO,PARTIDOS)\n",
        "  for i in range(len(JORNADA)):\n",
        "      if i == 0:\n",
        "          print('Viernes 20h: ', JORNADA[i])\n",
        "      if i == 1:\n",
        "          print('Sabado 12h: ', JORNADA[i])\n",
        "      if i == 2:\n",
        "          print('Sabado 16h: ', JORNADA[i])\n",
        "      if i == 3:\n",
        "          print('Sabado 18h: ', JORNADA[i])\n",
        "      if i == 4:\n",
        "          print('Sabado 20h: ', JORNADA[i])\n",
        "      if i == 5:\n",
        "          print('Domingo 12h: ', JORNADA[i])\n",
        "      if i == 6:\n",
        "          print('Domingo 16h:: ', JORNADA[i])\n",
        "      if i == 7:\n",
        "          print('Domingo 18h: ', JORNADA[i])\n",
        "      if i == 8:\n",
        "          print('Domingo 20h: ', JORNADA[i])\n",
        "      if i == 9:\n",
        "          print('Lunes 20h: ', JORNADA[i])\n",
        "  print('La audiencia de la jornada es (Millones de televidentes): ', float(MEJOR_AUDIENCIA) )  \n",
        "\n",
        "\n"
      ],
      "execution_count": 0,
      "outputs": []
    },
    {
      "cell_type": "code",
      "metadata": {
        "id": "pIrpLAKde1AL",
        "colab_type": "code",
        "colab": {
          "base_uri": "https://localhost:8080/",
          "height": 255
        },
        "outputId": "7cf6496c-7f55-4428-852d-663244ee6c16"
      },
      "source": [
        "mejor_solucion, mejor_valor = fuerza_bruta(AUDIENCIA_POR_CATEGORIA)\n",
        "presentador(mejor_valor, mejor_solucion,PARTIDOS)"
      ],
      "execution_count": 4,
      "outputs": [
        {
          "output_type": "stream",
          "text": [
            "la mejor solucion por fuerza bruta es:  (1, 9, 2, 0, 8, 3, 6, 4, 5, 7) \n",
            "con una audiencia de:  7.2205 \n",
            "\n",
            "Viernes 20h:  [('Valladolid', 'Barcelona')]\n",
            "Sabado 12h:  [('Alaves', 'Celta')]\n",
            "Sabado 16h:  [('Eibar', 'Osasuna')]\n",
            "Sabado 18h:  [('Valencia', 'Real Sociedad')]\n",
            "Sabado 20h:  [('Atletico', 'Levante')]\n",
            "Domingo 12h:  [('Real Madrid', 'Athletic')]\n",
            "Domingo 16h::  [('Leganes', 'Granada')]\n",
            "Domingo 18h:  [('Getafe', 'Sevilla')]\n",
            "Domingo 20h:  [('Espanyol', 'Villareal')]\n",
            "Lunes 20h:  [('Betis', 'Mallorca')]\n",
            "La audiencia de la jornada es (Millones de televidentes):  7.2205\n"
          ],
          "name": "stdout"
        }
      ]
    },
    {
      "cell_type": "code",
      "metadata": {
        "id": "67FmFWy5e0u0",
        "colab_type": "code",
        "colab": {
          "base_uri": "https://localhost:8080/",
          "height": 272
        },
        "outputId": "9d4883f3-19c7-4674-8c50-d49ce92d853d"
      },
      "source": [
        "MEJOR_AUDIENCIA, MEJOR_HORARIO=algoritmo_genetico(PARTIDOS,N = 100, GENERACIONES = 200, mutacion = 0.35, fitness = 0.2)\n",
        "presentador(MEJOR_AUDIENCIA, MEJOR_HORARIO,PARTIDOS)"
      ],
      "execution_count": 5,
      "outputs": [
        {
          "output_type": "stream",
          "text": [
            "Generacion # 199 \n",
            "La mejor solución es: [5, 6, 5, 8, 2, 8, 4, 4, 8, 9] \n",
            "con audiencia  8.185500000000001 \n",
            "\n",
            "Viernes 20h:  []\n",
            "Sabado 12h:  []\n",
            "Sabado 16h:  [('Espanyol', 'Villareal')]\n",
            "Sabado 18h:  []\n",
            "Sabado 20h:  [('Leganes', 'Granada'), ('Atletico', 'Levante')]\n",
            "Domingo 12h:  [('Alaves', 'Celta'), ('Eibar', 'Osasuna')]\n",
            "Domingo 16h::  [('Betis', 'Mallorca')]\n",
            "Domingo 18h:  []\n",
            "Domingo 20h:  [('Valladolid', 'Barcelona'), ('Valencia', 'Real Sociedad'), ('Real Madrid', 'Athletic')]\n",
            "Lunes 20h:  [('Getafe', 'Sevilla')]\n",
            "La audiencia de la jornada es (Millones de televidentes):  8.185500000000001\n"
          ],
          "name": "stdout"
        }
      ]
    },
    {
      "cell_type": "markdown",
      "metadata": {
        "id": "3_-exlrTgLd-",
        "colab_type": "text"
      },
      "source": [
        "(*)¿Cuantas posibilidades hay sin tener en cuenta las restricciones?<br>\n",
        "\n",
        "\n",
        "\n",
        "¿Cuantas posibilidades hay teniendo en cuenta todas las restricciones.\n",
        "\n",
        "\n"
      ]
    },
    {
      "cell_type": "markdown",
      "metadata": {
        "id": "WfCUqJyKhPcw",
        "colab_type": "text"
      },
      "source": [
        "*Respuest*a\n",
        "\n",
        "**La unica restriccion que nos cambia el numero de opciones es si es permitido o no que varios partidos coincidan en el mismo horario**"
      ]
    },
    {
      "cell_type": "code",
      "metadata": {
        "id": "iq6Fe32MgpDX",
        "colab_type": "code",
        "colab": {
          "base_uri": "https://localhost:8080/",
          "height": 34
        },
        "outputId": "d82d3b96-1d03-41dd-b4f5-f4003b79e982"
      },
      "source": [
        "print('numero de posibilidades si no existe la repeticion de horarios: ', math.factorial(10))"
      ],
      "execution_count": 15,
      "outputs": [
        {
          "output_type": "stream",
          "text": [
            "numero de posibilidades si no existe la repeticion de horarios:  3628800\n"
          ],
          "name": "stdout"
        }
      ]
    },
    {
      "cell_type": "code",
      "metadata": {
        "id": "yNbDCi8-iHGx",
        "colab_type": "code",
        "colab": {
          "base_uri": "https://localhost:8080/",
          "height": 34
        },
        "outputId": "2e27a174-09ee-4c88-c109-be18d469c0b7"
      },
      "source": [
        "print('numero de posibilidades si existe la repeticion de horarios: ', 10**10)"
      ],
      "execution_count": 16,
      "outputs": [
        {
          "output_type": "stream",
          "text": [
            "numero de posibilidades si existe la repeticion de horarios:  10000000000\n"
          ],
          "name": "stdout"
        }
      ]
    },
    {
      "cell_type": "markdown",
      "metadata": {
        "id": "dzynfVJahHoY",
        "colab_type": "text"
      },
      "source": [
        "Modelo para el espacio de soluciones<br>\n",
        "(*) ¿Cual es la estructura de datos que mejor se adapta al problema? Argumentalo.(Es posible que hayas elegido una al principio y veas la necesidad de cambiar, arguentalo)\n"
      ]
    },
    {
      "cell_type": "markdown",
      "metadata": {
        "id": "xFIJrOwKi2Ti",
        "colab_type": "text"
      },
      "source": [
        "Respuesta\n",
        "\n",
        "La mejor opcion que encontre fue utilizando un vector del siguiente tipo:\n",
        "\n",
        "SOLUCION = [P1,P2,...,P3] \n",
        "\n",
        "**En donde la posicion SOLUCION[0] equivale al primer partido y el valor de P1 es el horario asignado de la siguiente manera:**\n",
        "\n",
        "0 = Viernes 20h<br>\n",
        "1 = Sabado 12h<br>\n",
        "2 = Sabado 16h<br>\n",
        "3 = Sabado 18h<br>\n",
        "4 = Sabado 20h<br>\n",
        "5 = Domingo 12h<br>\n",
        "6 = Domingo 16h<br>\n",
        "7 = Domingo 18h<br>\n",
        "8 = Domingo 20h<br>\n",
        "9 = Lunes 20h<br>\n",
        "\n",
        "Esta manera de trabajar me permitio implementar mas facilmente la coincidencia de partidos en el mismo horario, tomando en cuenta que para el algoritmo genetico era mas sencillo trabajar con cadenas de valores del mismo tamanno y que se podria asignar el horario con un valor del 0 al 9\n",
        "\n",
        "En un principio utilice el horario como posicion y los valores del vector como el partido a llevarse a cabo, pero se me dificulto demasiado el calculo cuando quise implementar, varios partidos en un solo horario"
      ]
    },
    {
      "cell_type": "code",
      "metadata": {
        "id": "38c-7-ejhJmA",
        "colab_type": "code",
        "colab": {
          "base_uri": "https://localhost:8080/",
          "height": 34
        },
        "outputId": "baab5b99-4103-41f2-f6eb-2a5b0f9551f9"
      },
      "source": [
        "print('Vector con los horarios de cada partido con la mejor solucion en algoritmo genetico: ', MEJOR_HORARIO)"
      ],
      "execution_count": 17,
      "outputs": [
        {
          "output_type": "stream",
          "text": [
            "Vector con los horarios de cada partido con la mejor solucion en algoritmo genetico:  [6, 2, 3, 8, 4, 4, 4, 7, 2, 8]\n"
          ],
          "name": "stdout"
        }
      ]
    },
    {
      "cell_type": "markdown",
      "metadata": {
        "id": "7Z9U2W7bi-XS",
        "colab_type": "text"
      },
      "source": [
        "Según el modelo para el espacio de soluciones<br>\n",
        "(*)¿Cual es la función objetivo?\n",
        "\n",
        "(*)¿Es un problema de maximización o minimización?"
      ]
    },
    {
      "cell_type": "markdown",
      "metadata": {
        "id": "hBalWLM7j1_d",
        "colab_type": "text"
      },
      "source": [
        "Respuesta\n",
        "\n",
        "**El problema es uno de maximizacion y mi funcion objetivo era la definida como calculo_final(SOLU_PARC,AUDIENCIA_POR_CATEGORIA).** <br>\n",
        "\n",
        "    AUDIENCIA_JORNADA = 0.4*calculador_audiencia(V20) + 0.4*calculador_audiencia(S12) + 0.75*calculador_audiencia(S16) + 0.8*calculador_audiencia(S18) + calculador_audiencia(S20) + 0.55*calculador_audiencia(D12) + 0.7*calculador_audiencia(D16) + 0.5*calculador_audiencia(D18) + calculador_audiencia(D20) + 0.4*calculador_audiencia(L20)\n",
        "\n",
        "\n",
        "Como entradas para esta funcion se encuentran:<br>\n",
        "SOLU_PARC: vector de partidos y horarios <br>\n",
        "AUDIENCIA_POR_CATEGORIA : calculo de audiencia en cada uno de los partidos de acuerdo a su categoria<br>"
      ]
    },
    {
      "cell_type": "code",
      "metadata": {
        "id": "pDA-rg3Gj5Lz",
        "colab_type": "code",
        "colab": {
          "base_uri": "https://localhost:8080/",
          "height": 34
        },
        "outputId": "b47b3fc8-47be-446f-aa96-2312a1867718"
      },
      "source": [
        "print('Calculo de audiencia: ', calculo_final(MEJOR_HORARIO,AUDIENCIA_POR_CATEGORIA))"
      ],
      "execution_count": 9,
      "outputs": [
        {
          "output_type": "stream",
          "text": [
            "Calculo de audiencia:  8.185500000000001\n"
          ],
          "name": "stdout"
        }
      ]
    },
    {
      "cell_type": "markdown",
      "metadata": {
        "id": "rlnTYgY1j6I2",
        "colab_type": "text"
      },
      "source": [
        "Diseña un algoritmo para resolver el problema por fuerza bruta"
      ]
    },
    {
      "cell_type": "markdown",
      "metadata": {
        "id": "70rDgxYXkC8r",
        "colab_type": "text"
      },
      "source": [
        "Respuesta\n"
      ]
    },
    {
      "cell_type": "markdown",
      "metadata": {
        "id": "nCnwEOIMzhES",
        "colab_type": "text"
      },
      "source": [
        "Utilizar fuerza bruta lo considere unicamente factible para el caso donde no se permitian las repeticiones, debido a que el orden del problema no iba a permitir realizar en un tiempo razonable el caso donde si se permitian las repeticiones"
      ]
    },
    {
      "cell_type": "code",
      "metadata": {
        "id": "B1HSttgSnKmv",
        "colab_type": "code",
        "colab": {}
      },
      "source": [
        "## la unica entrada del algoritmo son los costes o la audiencia ##\n",
        "## esta se obtiene dependiendo de las categorias de cada equipo ##\n",
        "## para cada uno de los partidos ##\n",
        "\n",
        "def fuerza_bruta(COSTES):\n",
        "    mejor_valor = 0\n",
        "    mejor_solucion = ''\n",
        "    PFB = list(itertools.permutations(COSTES))\n",
        "    PARFB = list(itertools.permutations(range(len(COSTES))))\n",
        "    for s in range(len(PFB)):\n",
        "        valor_tmp = 0.4*PFB[s][0] + 0.4*PFB[s][1] + 0.75*PFB[s][2] + 0.8*PFB[s][3] + PFB[s][4] + 0.55*PFB[s][5] + 0.7*PFB[s][6] + 0.5*PFB[s][7] + PFB[s][8] + 0.4*PFB[s][9]\n",
        "        if valor_tmp > mejor_valor:\n",
        "            mejor_solucion = PARFB[s]\n",
        "            mejor_valor = valor_tmp\n",
        "    print('la mejor solucion por fuerza bruta es: ',  mejor_solucion, '\\ncon una audiencia de: ', mejor_valor, \"\\n\")\n",
        "    return mejor_solucion, mejor_valor"
      ],
      "execution_count": 0,
      "outputs": []
    },
    {
      "cell_type": "code",
      "metadata": {
        "id": "CJb5sQ0qkENy",
        "colab_type": "code",
        "colab": {
          "base_uri": "https://localhost:8080/",
          "height": 255
        },
        "outputId": "7dc31a89-3d75-44b1-f9d3-cba2762927fb"
      },
      "source": [
        "mejor_solucion, mejor_valor = fuerza_bruta(AUDIENCIA_POR_CATEGORIA)\n",
        "presentador(mejor_valor, mejor_solucion,PARTIDOS)"
      ],
      "execution_count": 11,
      "outputs": [
        {
          "output_type": "stream",
          "text": [
            "la mejor solucion por fuerza bruta es:  (1, 9, 2, 0, 8, 3, 6, 4, 5, 7) \n",
            "con una audiencia de:  7.2205 \n",
            "\n",
            "Viernes 20h:  [('Valladolid', 'Barcelona')]\n",
            "Sabado 12h:  [('Alaves', 'Celta')]\n",
            "Sabado 16h:  [('Eibar', 'Osasuna')]\n",
            "Sabado 18h:  [('Valencia', 'Real Sociedad')]\n",
            "Sabado 20h:  [('Atletico', 'Levante')]\n",
            "Domingo 12h:  [('Real Madrid', 'Athletic')]\n",
            "Domingo 16h::  [('Leganes', 'Granada')]\n",
            "Domingo 18h:  [('Getafe', 'Sevilla')]\n",
            "Domingo 20h:  [('Espanyol', 'Villareal')]\n",
            "Lunes 20h:  [('Betis', 'Mallorca')]\n",
            "La audiencia de la jornada es (Millones de televidentes):  7.2205\n"
          ],
          "name": "stdout"
        }
      ]
    },
    {
      "cell_type": "markdown",
      "metadata": {
        "id": "tgrnsC2nkFa8",
        "colab_type": "text"
      },
      "source": [
        "Calcula la complejidad del algoritmo por fuerza bruta"
      ]
    },
    {
      "cell_type": "markdown",
      "metadata": {
        "id": "9eUd3xwckP68",
        "colab_type": "text"
      },
      "source": [
        "Respuesta"
      ]
    },
    {
      "cell_type": "markdown",
      "metadata": {
        "id": "8WlyqLFNoHtp",
        "colab_type": "text"
      },
      "source": [
        "**la complejidad es O(n!) tomando en cuenta que debemos de hacer un numero de permutaciones de todos los equipos para validar todas las combinaciones de partidos en los diferentes horarios**"
      ]
    },
    {
      "cell_type": "markdown",
      "metadata": {
        "id": "txbrmLmskReM",
        "colab_type": "text"
      },
      "source": [
        "(*)Diseña un algoritmo que mejore la complejidad del algortimo por fuerza bruta. Argumenta porque crees que mejora el algoritmo por fuerza bruta"
      ]
    },
    {
      "cell_type": "markdown",
      "metadata": {
        "id": "hLrVwt5QkZPD",
        "colab_type": "text"
      },
      "source": [
        "Respuesta"
      ]
    },
    {
      "cell_type": "markdown",
      "metadata": {
        "id": "ZnLG7ZFU0MKO",
        "colab_type": "text"
      },
      "source": [
        "Utilizo un algoritmo genetico para la resolucion del problema debido a la clara reduccion de la complejidad del algoritmo y debido al numero de posibilidades que se tenia, tomando en cuenta que ahora estoy tratando de encontrar **el numero de soluciones permitiendo la repeticion de horarios de los partidos**, al introducir una tecnica heuristica no obtendre un dato exacto de la solucion pero si una muy cercana a ella"
      ]
    },
    {
      "cell_type": "code",
      "metadata": {
        "id": "m1eyM21Vkabg",
        "colab_type": "code",
        "colab": {}
      },
      "source": [
        "def algoritmo_genetico(PARTIDOS, N, GENERACIONES, mutacion, fitness):\n",
        "    # Generacion de padres #\n",
        "    PADRES = []\n",
        "    VECT_POS = []\n",
        "    VECT_AUD = []\n",
        "    VECT_HOR = []\n",
        "    AUDIENCIA_POR_CATEGORIA = audiencia(PARTIDOS)\n",
        "    MEJOR_HORARIO,POSICION = asignacion_horarios(PARTIDOS)\n",
        "    MEJOR_AUDIENCIA = audiencia_final(MEJOR_HORARIO)\n",
        "    for i in range(N):\n",
        "        HORARIO_GENERADO, POSICION = asignacion_horarios(PARTIDOS)\n",
        "        AUDIENCIA_HORARIO = audiencia_final(HORARIO_GENERADO)\n",
        "        CONCATENADO = (HORARIO_GENERADO,POSICION,AUDIENCIA_HORARIO)\n",
        "        PADRES.append(CONCATENADO)\n",
        "        VECT_POS.append(POSICION)\n",
        "        VECT_AUD.append(AUDIENCIA_HORARIO)\n",
        "        VECT_HOR.append(HORARIO_GENERADO)\n",
        "        # Busqueda de mejor horario y mejor audiencia #\n",
        "        if AUDIENCIA_HORARIO > MEJOR_AUDIENCIA:\n",
        "            MEJOR_HORARIO = HORARIO_GENERADO\n",
        "            MEJOR_AUDIENCIA = AUDIENCIA_HORARIO\n",
        "    # Generador de hijos #\n",
        "    #Inciamos el cliclo de generaciones\n",
        "    for i in range(GENERACIONES):\n",
        "    \n",
        "        #Cruce de la poblacion(incluye mutación)\n",
        "        poblacion = Cruzar(VECT_POS, mutacion, PARTIDOS)\n",
        "\n",
        "        #Seleccionamos la población\n",
        "        poblacion = Seleccionar(VECT_POS,VECT_POS, N, fitness,AUDIENCIA_POR_CATEGORIA)\n",
        "\n",
        "        #Evaluamos la nueva población\n",
        "        MEJOR_AUDIENCIA, MEJOR_HORARIO = evaluar_poblacion(poblacion, AUDIENCIA_POR_CATEGORIA,MEJOR_AUDIENCIA,MEJOR_HORARIO)\n",
        "  \n",
        "    print(\"Generacion #\", i, \"\\nLa mejor solución es:\" , MEJOR_HORARIO, \"\\ncon audiencia \" , MEJOR_AUDIENCIA, \"\\n\")\n",
        "\n",
        "    #Numero de generaciones. Criterio de parada\n",
        "    \n",
        "    return MEJOR_AUDIENCIA, MEJOR_HORARIO"
      ],
      "execution_count": 0,
      "outputs": []
    },
    {
      "cell_type": "markdown",
      "metadata": {
        "id": "eGDB4K6uk1iN",
        "colab_type": "text"
      },
      "source": [
        "(*)Calcula la complejidad del algoritmo "
      ]
    },
    {
      "cell_type": "markdown",
      "metadata": {
        "id": "NhpTh_BPk1ms",
        "colab_type": "text"
      },
      "source": [
        "Respuesta"
      ]
    },
    {
      "cell_type": "markdown",
      "metadata": {
        "id": "opfNY3Ngo39p",
        "colab_type": "text"
      },
      "source": [
        "**La complejidad del algoritmo es O(n^2), siendo n el numero de su poblacion**"
      ]
    },
    {
      "cell_type": "markdown",
      "metadata": {
        "id": "3M6QjTsSkmYe",
        "colab_type": "text"
      },
      "source": [
        "Según el problema (y tenga sentido), diseña un juego de datos de entrada aleatorios"
      ]
    },
    {
      "cell_type": "markdown",
      "metadata": {
        "id": "Jc3_OlyNkvjZ",
        "colab_type": "text"
      },
      "source": [
        "Respuesta"
      ]
    },
    {
      "cell_type": "markdown",
      "metadata": {
        "id": "YiAl0aj1pfqV",
        "colab_type": "text"
      },
      "source": [
        "**Debido a que he utilizado un algoritmo genetico es imprecindible generar una poblacion aleatoria de entrada, por la manera en que he disennado el algoritmo es complicado la visualizacion de los datos de enrada aleatorios, en el inicio del programa explico como se generan estan poblaciones y se evaluan**"
      ]
    },
    {
      "cell_type": "markdown",
      "metadata": {
        "id": "zy5ZROmjlGo1",
        "colab_type": "text"
      },
      "source": [
        "Aplica el algoritmo al juego de datos generado"
      ]
    },
    {
      "cell_type": "markdown",
      "metadata": {
        "id": "_Cmj-PVylMsa",
        "colab_type": "text"
      },
      "source": [
        "Respuesta"
      ]
    },
    {
      "cell_type": "code",
      "metadata": {
        "id": "Gmq60NpgoqNg",
        "colab_type": "code",
        "colab": {
          "base_uri": "https://localhost:8080/",
          "height": 272
        },
        "outputId": "c6bfb1c3-37da-43d6-e12e-67135ce88e45"
      },
      "source": [
        "MEJOR_AUDIENCIA, MEJOR_HORARIO=algoritmo_genetico(PARTIDOS,N = 100, GENERACIONES = 200, mutacion = 0.35, fitness = 0.2)\n",
        "presentador(MEJOR_AUDIENCIA, MEJOR_HORARIO,PARTIDOS)"
      ],
      "execution_count": 13,
      "outputs": [
        {
          "output_type": "stream",
          "text": [
            "Generacion # 199 \n",
            "La mejor solución es: [6, 2, 3, 8, 4, 4, 4, 7, 2, 8] \n",
            "con audiencia  8.4125 \n",
            "\n",
            "Viernes 20h:  []\n",
            "Sabado 12h:  []\n",
            "Sabado 16h:  [('Betis', 'Mallorca'), ('Real Madrid', 'Athletic')]\n",
            "Sabado 18h:  [('Eibar', 'Osasuna')]\n",
            "Sabado 20h:  [('Espanyol', 'Villareal'), ('Valencia', 'Real Sociedad'), ('Leganes', 'Granada')]\n",
            "Domingo 12h:  []\n",
            "Domingo 16h::  [('Alaves', 'Celta')]\n",
            "Domingo 18h:  [('Atletico', 'Levante')]\n",
            "Domingo 20h:  [('Valladolid', 'Barcelona'), ('Getafe', 'Sevilla')]\n",
            "Lunes 20h:  []\n",
            "La audiencia de la jornada es (Millones de televidentes):  8.4125\n"
          ],
          "name": "stdout"
        }
      ]
    },
    {
      "cell_type": "markdown",
      "metadata": {
        "colab_type": "text",
        "id": "eTFWUJQrtGcv"
      },
      "source": [
        "Enumera las referencias que has utilizado(si ha sido necesario) para llevar a cabo el trabajo"
      ]
    },
    {
      "cell_type": "markdown",
      "metadata": {
        "id": "YKQ_mRBttWsP",
        "colab_type": "text"
      },
      "source": [
        "Respuesta"
      ]
    },
    {
      "cell_type": "markdown",
      "metadata": {
        "id": "2Qv6pnTKqFQ9",
        "colab_type": "text"
      },
      "source": [
        "*Ninguna*"
      ]
    },
    {
      "cell_type": "markdown",
      "metadata": {
        "id": "kAkDPUyRtYyH",
        "colab_type": "text"
      },
      "source": [
        "Describe brevemente las lineas de como crees que es posible avanzar en el estudio del problema. Ten en cuenta incluso posibles variaciones del problema y/o variaciones al alza del tamaño"
      ]
    },
    {
      "cell_type": "markdown",
      "metadata": {
        "id": "IE0uZmo-tZu-",
        "colab_type": "text"
      },
      "source": [
        "Respuesta"
      ]
    }
  ]
}