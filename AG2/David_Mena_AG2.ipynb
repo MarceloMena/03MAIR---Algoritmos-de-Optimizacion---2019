{
  "nbformat": 4,
  "nbformat_minor": 0,
  "metadata": {
    "colab": {
      "name": "David Mena - AG2.ipynb",
      "provenance": [],
      "private_outputs": true,
      "collapsed_sections": [],
      "include_colab_link": true
    },
    "kernelspec": {
      "name": "python3",
      "display_name": "Python 3"
    }
  },
  "cells": [
    {
      "cell_type": "markdown",
      "metadata": {
        "id": "view-in-github",
        "colab_type": "text"
      },
      "source": [
        "<a href=\"https://colab.research.google.com/github/MarceloMena/03MAIR---Algoritmos-de-Optimizacion---2019/blob/master/AG2/David_Mena_AG2.ipynb\" target=\"_parent\"><img src=\"https://colab.research.google.com/assets/colab-badge.svg\" alt=\"Open In Colab\"/></a>"
      ]
    },
    {
      "cell_type": "markdown",
      "metadata": {
        "id": "NOZub2sWSTg2",
        "colab_type": "text"
      },
      "source": [
        "Actividad Guiada 2 - Algoritmos de optimizacion David Marcelo Mena Ruiz\n",
        "\n",
        "https://colab.research.google.com/drive/1MC_SO8W7GBOKtdqJqGG6OsOA5cutieHh"
      ]
    },
    {
      "cell_type": "markdown",
      "metadata": {
        "id": "eFP5dnU2SpXO",
        "colab_type": "text"
      },
      "source": [
        "###Viaje por el rio"
      ]
    },
    {
      "cell_type": "code",
      "metadata": {
        "id": "EbB3_fJ_HBI-",
        "colab_type": "code",
        "colab": {}
      },
      "source": [
        "TARIFAS = [[0,5,4,3,999,999,999],[999,0,999,2,3,999,11],[999,999,0,1,999,4,10],[999,999,999,0,5,6,9],[999,999,999,999,0,999,4],[999,999,999,999,9999,0,3],[999,999,999,999,999,999,0]]"
      ],
      "execution_count": 0,
      "outputs": []
    },
    {
      "cell_type": "code",
      "metadata": {
        "id": "ueyiHNsULLGD",
        "colab_type": "code",
        "colab": {}
      },
      "source": [
        "TARIFAS"
      ],
      "execution_count": 0,
      "outputs": []
    },
    {
      "cell_type": "code",
      "metadata": {
        "id": "jZYC47DdLazZ",
        "colab_type": "code",
        "colab": {}
      },
      "source": [
        "def precios(TARIFAS):\n",
        "  N = len(TARIFAS[0])\n",
        "  PRECIOS = [ [9999]*N for i in [9999]*N]\n",
        "  RUTAS = [ [\"\"]*N for i in [\"\"]*N]\n",
        "  for i in range(0,N-1):\n",
        "    for j in range(i+1,N):\n",
        "      MIN = TARIFAS[i][j]\n",
        "      RUTAS[i][j] = i\n",
        "      for k in range(i,j):\n",
        "        if PRECIOS[i][k] + TARIFAS[k][j] < MIN:\n",
        "          MIN = PRECIOS[i][k] + TARIFAS [k][j]\n",
        "          RUTAS[i][j] = k\n",
        "      PRECIOS[i][j] = MIN\n",
        "  return PRECIOS,RUTAS\n",
        "\n",
        "PRECIOS,RUTAS = precios(TARIFAS)\n",
        "\n",
        "#print(PRECIOS)\n",
        "#print(RUTAS)\n",
        "  \n",
        "def calcular_ruta(RUTAS, desde, hasta):\n",
        "  if desde == hasta:\n",
        "    return desde\n",
        "  else:\n",
        "    return str(calcular_ruta(RUTAS, desde, RUTAS[desde][hasta])) + ' - ' + str(RUTAS[desde][hasta] )\n",
        "  \n",
        "calcular_ruta(RUTAS,0,6)"
      ],
      "execution_count": 0,
      "outputs": []
    },
    {
      "cell_type": "markdown",
      "metadata": {
        "id": "UGYlmY90MSeE",
        "colab_type": "text"
      },
      "source": [
        "###Asignacion de tareas"
      ]
    },
    {
      "cell_type": "code",
      "metadata": {
        "id": "6s5Wp9Z3KsHO",
        "colab_type": "code",
        "colab": {}
      },
      "source": [
        "import itertools"
      ],
      "execution_count": 0,
      "outputs": []
    },
    {
      "cell_type": "code",
      "metadata": {
        "id": "f-fcaHXCVm92",
        "colab_type": "code",
        "colab": {}
      },
      "source": [
        "COSTES = [[11,12,18,40],[14,15,13,22],[11,17,19,23],[17,14,20,28]]"
      ],
      "execution_count": 0,
      "outputs": []
    },
    {
      "cell_type": "code",
      "metadata": {
        "id": "TEaEAL3AWGXA",
        "colab_type": "code",
        "colab": {}
      },
      "source": [
        "def valor(S,COSTES):\n",
        "  VALOR = 0\n",
        "  for i in range(len(S)):\n",
        "    VALOR +=  COSTES[S[i]][i]\n",
        "  return VALOR\n",
        "valor((1,0,3,2),COSTES)"
      ],
      "execution_count": 0,
      "outputs": []
    },
    {
      "cell_type": "code",
      "metadata": {
        "id": "8bQas2NYXv8A",
        "colab_type": "code",
        "colab": {}
      },
      "source": [
        "def fuerza_bruta(COSTES):\n",
        "  mejor_valor = 10e10\n",
        "  mejor_solucion = ''\n",
        "  for s in list(itertools.permutations(range(len(COSTES)))):\n",
        "    valor_tmp = valor(s, COSTES)\n",
        "    if valor_tmp < mejor_valor:\n",
        "      mejor_solucion = s\n",
        "      mejor_valor = valor_tmp\n",
        "  print('mejor solucion :', mejor_solucion)\n",
        "  "
      ],
      "execution_count": 0,
      "outputs": []
    },
    {
      "cell_type": "code",
      "metadata": {
        "id": "o234gn1labof",
        "colab_type": "code",
        "colab": {}
      },
      "source": [
        "fuerza_bruta(COSTES)"
      ],
      "execution_count": 0,
      "outputs": []
    },
    {
      "cell_type": "code",
      "metadata": {
        "id": "UAlcRRSAcBfm",
        "colab_type": "code",
        "colab": {}
      },
      "source": [
        "def CI(s,COSTES):\n",
        "  VALOR = 0\n",
        "  for i in range(len(s)):\n",
        "    VALOR += COSTES[i][s[i]]\n",
        "  for i in range(len(COSTES)):\n",
        "    if i not in s:\n",
        "      VALOR += min([COSTES[j][i] for j in range(len(s),len(COSTES))])\n",
        "  return VALOR\n",
        "CI((2,0),COSTES)\n",
        "\n",
        "def crear_hijos(NODO,N):\n",
        "  HIJOS = []\n",
        "  for i in range(N):\n",
        "    if i not in NODO:\n",
        "      HIJOS.append({'s':NODO+(i,)})\n",
        "  return HIJOS\n",
        "crear_hijos((0,2) ,4)"
      ],
      "execution_count": 0,
      "outputs": []
    },
    {
      "cell_type": "code",
      "metadata": {
        "id": "UuE3UTEcllaZ",
        "colab_type": "code",
        "colab": {}
      },
      "source": [
        "def ramificacion_y_poda(COSTES):\n",
        "  DIMENSION = len(COSTES)\n",
        "  MEJOR_SOLUCION = tuple(i for i in range(DIMENSION))  \n",
        "  CotaSup = valor(MEJOR_SOLUCION,COSTES)\n",
        "  NODOS = []\n",
        "  NODOS.append({'s':(), 'ci':CI((),COSTES)})\n",
        "  iteracion = 0\n",
        "  while (len(NODOS) > 0):\n",
        "    iteracion +=1    \n",
        "    nodo_prometedor = min(NODOS, key = lambda x:x['ci'])\n",
        "    #Hijos\n",
        "    HIJOS = [ {'s':x['s'],'ci':CI(x['s'],COSTES)}for x in crear_hijos(nodo_prometedor['s'], DIMENSION)]\n",
        "    NODO_FINAL = [ x for x in HIJOS if len(x['s']) == DIMENSION]\n",
        "    if len(NODO_FINAL)>0:\n",
        "      if NODO_FINAL[0]['ci']<CotaSup:\n",
        "        CotaSup = NODO_FINAL[0]['ci']\n",
        "        MEJOR_SOLUCION = NODO_FINAL[0]\n",
        "    #poda\n",
        "    HIJOS = [x for x in HIJOS if x['ci']< CotaSup]\n",
        "    #eliminamos el nodo expandido\n",
        "    NODOS = [x for x in NODOS if x['s'] !=nodo_prometedor['s']]\n",
        "    #Añadimos los hijos\n",
        "    NODOS.extend(HIJOS)\n",
        "  print('la mejor solucion es:',MEJOR_SOLUCION)\n",
        "ramificacion_y_poda(COSTES)"
      ],
      "execution_count": 0,
      "outputs": []
    },
    {
      "cell_type": "code",
      "metadata": {
        "id": "Kdsp5H0E9CJz",
        "colab_type": "code",
        "colab": {}
      },
      "source": [
        "import math\n",
        "import matplotlib.pyplot as plt\n",
        "import numpy as np\n",
        "\n",
        "import random"
      ],
      "execution_count": 0,
      "outputs": []
    },
    {
      "cell_type": "code",
      "metadata": {
        "id": "qUJZhvfvMO4V",
        "colab_type": "code",
        "colab": {}
      },
      "source": [
        "f = lambda X: X[0]**2 + X[1]**2\n",
        "df = lambda X: [2*X[0],2*X[1]]"
      ],
      "execution_count": 0,
      "outputs": []
    },
    {
      "cell_type": "code",
      "metadata": {
        "id": "Hz0dts7IM2I2",
        "colab_type": "code",
        "colab": {}
      },
      "source": [
        "resolucion = 1000\n",
        "rango =2.5\n",
        "X=np.linspace(-rango,rango,resolucion)\n",
        "Y=np.linspace(-rango,rango,resolucion)\n",
        "Z=np.zeros((resolucion,resolucion))\n",
        "for ix,x in enumerate(X):\n",
        "  for iy,y in enumerate(Y):\n",
        "    Z[iy,ix] = f([x,y])\n",
        "\n",
        "plt.contourf(X,Y,Z, resolucion)\n",
        "plt.colorbar()\n",
        "P=[random.uniform(-2,2),random.uniform(-2,2)]\n",
        "plt.plot(P[0],P[1],\"o\", c=\"white\")\n",
        "TA=.1\n",
        "for _ in range (500):\n",
        "  grad = df(P)\n",
        "  P[0],P[1] = P[0] - TA*grad[0], P[1] - TA*grad[1]\n",
        "  plt.plot(P[0],P[1],\"o\",c=\"red\")\n",
        "plt.plot(P[0],P[1],\"o\",c=\"green\")\n",
        "plt.show()\n",
        "print(\"solucion: \", P, f(P))"
      ],
      "execution_count": 0,
      "outputs": []
    },
    {
      "cell_type": "code",
      "metadata": {
        "id": "7U3FXGbjODM6",
        "colab_type": "code",
        "colab": {}
      },
      "source": [
        ""
      ],
      "execution_count": 0,
      "outputs": []
    }
  ]
}