{
  "nbformat": 4,
  "nbformat_minor": 0,
  "metadata": {
    "colab": {
      "name": "David Mena - AG3.ipynb",
      "provenance": [],
      "include_colab_link": true
    },
    "kernelspec": {
      "name": "python3",
      "display_name": "Python 3"
    }
  },
  "cells": [
    {
      "cell_type": "markdown",
      "metadata": {
        "id": "view-in-github",
        "colab_type": "text"
      },
      "source": [
        "<a href=\"https://colab.research.google.com/github/MarceloMena/03MAIR---Algoritmos-de-Optimizacion---2019/blob/master/AG3/David_Mena_AG3.ipynb\" target=\"_parent\"><img src=\"https://colab.research.google.com/assets/colab-badge.svg\" alt=\"Open In Colab\"/></a>"
      ]
    },
    {
      "cell_type": "markdown",
      "metadata": {
        "id": "OlQ-t7FtRw8R",
        "colab_type": "text"
      },
      "source": [
        "AG3 - Actividad Guiada\n",
        "\n",
        "David Mena\n",
        "\n",
        "https://colab.research.google.com/drive/1JzNtaDSmHB22yiKfWVFE_3cjYmts_DOp"
      ]
    },
    {
      "cell_type": "code",
      "metadata": {
        "id": "6wUBzxKeSDIi",
        "colab_type": "code",
        "colab": {}
      },
      "source": [
        "#!pip install request"
      ],
      "execution_count": 0,
      "outputs": []
    },
    {
      "cell_type": "code",
      "metadata": {
        "id": "kn_Eg3hMSKmk",
        "colab_type": "code",
        "colab": {
          "base_uri": "https://localhost:8080/",
          "height": 34
        },
        "outputId": "0005bb1e-b52c-4ff8-b3c2-3dc755b23558"
      },
      "source": [
        "import urllib.request\n",
        "\n",
        "file = \"swiss42.tsp\"\n",
        "\n",
        "urllib.request.urlretrieve(\"http://elib.zib.de/pub/mp-testdata/tsp/tsplib/tsp/swiss42.tsp\",file)"
      ],
      "execution_count": 3,
      "outputs": [
        {
          "output_type": "execute_result",
          "data": {
            "text/plain": [
              "('swiss42.tsp', <http.client.HTTPMessage at 0x7fe8cc91aac8>)"
            ]
          },
          "metadata": {
            "tags": []
          },
          "execution_count": 3
        }
      ]
    },
    {
      "cell_type": "code",
      "metadata": {
        "id": "S3a04umRSvL8",
        "colab_type": "code",
        "colab": {}
      },
      "source": [
        "#!pip install tsplib95"
      ],
      "execution_count": 0,
      "outputs": []
    },
    {
      "cell_type": "code",
      "metadata": {
        "id": "NLQ9OS3pVr2k",
        "colab_type": "code",
        "colab": {}
      },
      "source": [
        "import tsplib95\n",
        "import random\n",
        "from math import e"
      ],
      "execution_count": 0,
      "outputs": []
    },
    {
      "cell_type": "code",
      "metadata": {
        "id": "MXG4QdMwV6-q",
        "colab_type": "code",
        "colab": {}
      },
      "source": [
        "problem = tsplib95.load_problem(file)\n",
        "print(problem)"
      ],
      "execution_count": 0,
      "outputs": []
    },
    {
      "cell_type": "code",
      "metadata": {
        "id": "4EItb5g4aIWd",
        "colab_type": "code",
        "colab": {}
      },
      "source": [
        "list(problem.get_nodes())"
      ],
      "execution_count": 0,
      "outputs": []
    },
    {
      "cell_type": "code",
      "metadata": {
        "id": "fq4cojhLZ7Jf",
        "colab_type": "code",
        "colab": {}
      },
      "source": [
        "Nodos = list(problem.get_nodes())\n",
        "Aristas = list(problem.get_edges())"
      ],
      "execution_count": 0,
      "outputs": []
    },
    {
      "cell_type": "code",
      "metadata": {
        "id": "RapnbDIuZmUn",
        "colab_type": "code",
        "colab": {
          "base_uri": "https://localhost:8080/",
          "height": 54
        },
        "outputId": "dcfaea83-dd42-48bf-83b7-f88a72b7e242"
      },
      "source": [
        "print(Nodos)"
      ],
      "execution_count": 14,
      "outputs": [
        {
          "output_type": "stream",
          "text": [
            "[0, 1, 2, 3, 4, 5, 6, 7, 8, 9, 10, 11, 12, 13, 14, 15, 16, 17, 18, 19, 20, 21, 22, 23, 24, 25, 26, 27, 28, 29, 30, 31, 32, 33, 34, 35, 36, 37, 38, 39, 40, 41]\n"
          ],
          "name": "stdout"
        }
      ]
    },
    {
      "cell_type": "code",
      "metadata": {
        "id": "sKxNQeUFWQWd",
        "colab_type": "code",
        "colab": {}
      },
      "source": [
        "def crear_solucion(Nodos):\n",
        "  solucion =[0]\n",
        "  for i in range(len(Nodos)-1):\n",
        "    solucion = solucion + [random.choice(list(set(Nodos)-set({0})-set(solucion)))]\n",
        "  return solucion\n",
        "def distancia(a,b,problem):\n",
        "  return problem.wfunc(a,b)\n",
        "\n",
        "def distancia_total(solucion,problem):\n",
        "  distancia_total = 0\n",
        "  for i in range(len(solucion)-1):\n",
        "    distancia_total +=distancia(solucion[i] ,solucion[i+1], problem)\n",
        "  return distancia_total + distancia(len(solucion)-1,solucion[0],problem)"
      ],
      "execution_count": 0,
      "outputs": []
    },
    {
      "cell_type": "code",
      "metadata": {
        "id": "uB4WiL5WXoSH",
        "colab_type": "code",
        "colab": {}
      },
      "source": [
        "def busqueda_aleatoria(problem, N):\n",
        "  Nodos = list(problem.get_nodes())\n",
        "  mejor_solucion = []\n",
        "  mejor_distancia = 10e100\n",
        "  for i in range(N):\n",
        "    solucion = crear_solucion(Nodos)\n",
        "    distancia_solucion = distancia_total(solucion,problem)\n",
        "    if distancia_solucion < mejor_distancia:\n",
        "      mejor_solucion = solucion\n",
        "      mejor_distancia = distancia_solucion\n",
        "  print(\"la mejor solucion encontrada  es \", end = \"\")\n",
        "  print(solucion)\n",
        "  print(\"con una distancia total de \", end =\"\")\n",
        "  print(mejor_distancia)\n",
        "  return"
      ],
      "execution_count": 0,
      "outputs": []
    },
    {
      "cell_type": "code",
      "metadata": {
        "id": "7bJvzD-xY3IN",
        "colab_type": "code",
        "colab": {
          "base_uri": "https://localhost:8080/",
          "height": 71
        },
        "outputId": "47a15bee-75a3-4506-b676-a3c15a06b38e"
      },
      "source": [
        "busqueda_aleatoria(problem,5000)"
      ],
      "execution_count": 52,
      "outputs": [
        {
          "output_type": "stream",
          "text": [
            "la mejor solucion encontrada  es [0, 8, 30, 14, 36, 2, 22, 10, 6, 19, 1, 13, 17, 24, 20, 23, 31, 18, 7, 26, 5, 4, 38, 15, 41, 12, 3, 34, 25, 37, 32, 16, 28, 33, 39, 35, 29, 9, 40, 27, 11, 21]\n",
            "con una distancia total de 3865\n"
          ],
          "name": "stdout"
        }
      ]
    },
    {
      "cell_type": "code",
      "metadata": {
        "id": "0L_iqRM3dW6R",
        "colab_type": "code",
        "colab": {}
      },
      "source": [
        "def genera_vecina(solucion):\n",
        "  mejor_solucion = []\n",
        "  mejor_distancia = 10e100\n",
        "  for i in range(1,len(solucion)-1):\n",
        "    for j in range(i+1, len(solucion)):\n",
        "      vecina = solucion[:i] + [solucion[j]] + solucion[i+1:j] + [solucion[i]] + solucion [j+1:]\n",
        "      distancia_vecina = distancia_total(vecina, problem)\n",
        "      if distancia_vecina <= mejor_distancia:\n",
        "        mejor_distancia = distancia_vecina\n",
        "        mejor_solucion = vecina\n",
        "  return mejor_solucion\n",
        "  "
      ],
      "execution_count": 0,
      "outputs": []
    },
    {
      "cell_type": "code",
      "metadata": {
        "id": "4ROUioC5f_77",
        "colab_type": "code",
        "colab": {}
      },
      "source": [
        "def busqueda_local(problem, N):\n",
        "  mejor_solucion = []\n",
        "  mejor_distancia = 10e100\n",
        "  solucion_referencia = crear_solucion(Nodos)\n",
        "  for i in range(N):\n",
        "    vecina = genera_vecina(solucion_referencia)\n",
        "    distancia_vecina = distancia_total(vecina,problem)\n",
        "    if distancia_vecina <= mejor_distancia:\n",
        "      mejor_solucion = vecina\n",
        "      mejor_distancia = distancia_vecina\n",
        "    solucion_referencia = vecina\n",
        "  print(\"la mejor solucion encontrada  es \", end = \"\")\n",
        "  print(mejor_solucion)\n",
        "  print(\"con una distancia total de \", end =\"\")\n",
        "  print(mejor_distancia)\n",
        "  return"
      ],
      "execution_count": 0,
      "outputs": []
    },
    {
      "cell_type": "code",
      "metadata": {
        "id": "3ZxPUHkUgRyw",
        "colab_type": "code",
        "colab": {
          "base_uri": "https://localhost:8080/",
          "height": 71
        },
        "outputId": "c1538c2e-c547-4e89-d79d-cb4d02069640"
      },
      "source": [
        "busqueda_local(problem,200)"
      ],
      "execution_count": 55,
      "outputs": [
        {
          "output_type": "stream",
          "text": [
            "la mejor solucion encontrada  es [0, 15, 16, 14, 6, 1, 3, 9, 21, 24, 40, 23, 41, 8, 29, 30, 28, 27, 7, 37, 17, 31, 35, 36, 19, 13, 5, 10, 25, 11, 12, 18, 26, 4, 2, 39, 22, 38, 32, 34, 20, 33]\n",
            "con una distancia total de 1875\n"
          ],
          "name": "stdout"
        }
      ]
    },
    {
      "cell_type": "code",
      "metadata": {
        "id": "C2sNOYoMg6KK",
        "colab_type": "code",
        "colab": {}
      },
      "source": [
        "def probabilidad(T,d):\n",
        "  r = random.random();\n",
        "  if r < (e**(-1*d)/(T*.5*10**(-5))):\n",
        "    return True\n",
        "  else:\n",
        "    return False    "
      ],
      "execution_count": 0,
      "outputs": []
    },
    {
      "cell_type": "code",
      "metadata": {
        "id": "1cTaOXxLiGgm",
        "colab_type": "code",
        "colab": {}
      },
      "source": [
        "def bajar_temperatura(T):\n",
        "  return T*0.999"
      ],
      "execution_count": 0,
      "outputs": []
    },
    {
      "cell_type": "code",
      "metadata": {
        "id": "8rX8VBlGiSsG",
        "colab_type": "code",
        "colab": {}
      },
      "source": [
        "def genera_vecia_aleatorio(solucion):\n",
        "  i,j = sorted(random.sample(range(1,len(solucion)),2))\n",
        "  return solucion[:i] + [solucion[j]] + solucion[i+1:j] + [solucion[i]] + solucion [j+1:]"
      ],
      "execution_count": 0,
      "outputs": []
    },
    {
      "cell_type": "code",
      "metadata": {
        "id": "XInCsEoAivOn",
        "colab_type": "code",
        "colab": {}
      },
      "source": [
        "def recocido_simulado(problem, TEMPERATURA):\n",
        "  solucion_referencia = crear_solucion(Nodos)\n",
        "  distancia_referencia = distancia_total(solucion_referencia, problem)\n",
        "  mejor_solucion = []\n",
        "  mejor_distancia = 10e100\n",
        "  while TEMPERATURA > .01:\n",
        "    vecina = genera_vecia_aleatorio(solucion_referencia)\n",
        "    distancia_vecina = distancia_total(vecina,problem)\n",
        "    if distancia_vecina < mejor_distancia:\n",
        "      mejor_solucion = vecina\n",
        "      mejor_distancia = distancia_vecina\n",
        "    if distancia_vecina < distancia_referencia or probabilidad(TEMPERATURA, abs(distancia_referencia - distancia_vecina)):\n",
        "      solucion_referencia = vecina\n",
        "      distancia_referencia = distancia_vecina\n",
        "    TEMPERATURA = bajar_temperatura(TEMPERATURA)\n",
        "  print('la mejor distancia es: ', mejor_distancia)\n",
        "  return mejor_solucion"
      ],
      "execution_count": 0,
      "outputs": []
    },
    {
      "cell_type": "code",
      "metadata": {
        "id": "1FY-p1sNj308",
        "colab_type": "code",
        "colab": {
          "base_uri": "https://localhost:8080/",
          "height": 748
        },
        "outputId": "0236d3d0-c7a1-4fbd-f426-496759ab97f8"
      },
      "source": [
        "recocido_simulado(problem,100)"
      ],
      "execution_count": 84,
      "outputs": [
        {
          "output_type": "stream",
          "text": [
            "la mejor distancia es:  1639\n"
          ],
          "name": "stdout"
        },
        {
          "output_type": "execute_result",
          "data": {
            "text/plain": [
              "[0,\n",
              " 4,\n",
              " 26,\n",
              " 5,\n",
              " 18,\n",
              " 12,\n",
              " 11,\n",
              " 7,\n",
              " 17,\n",
              " 31,\n",
              " 35,\n",
              " 36,\n",
              " 37,\n",
              " 15,\n",
              " 14,\n",
              " 16,\n",
              " 13,\n",
              " 19,\n",
              " 6,\n",
              " 1,\n",
              " 34,\n",
              " 33,\n",
              " 20,\n",
              " 32,\n",
              " 2,\n",
              " 27,\n",
              " 3,\n",
              " 28,\n",
              " 30,\n",
              " 29,\n",
              " 8,\n",
              " 10,\n",
              " 25,\n",
              " 41,\n",
              " 23,\n",
              " 9,\n",
              " 39,\n",
              " 21,\n",
              " 40,\n",
              " 24,\n",
              " 22,\n",
              " 38]"
            ]
          },
          "metadata": {
            "tags": []
          },
          "execution_count": 84
        }
      ]
    }
  ]
}