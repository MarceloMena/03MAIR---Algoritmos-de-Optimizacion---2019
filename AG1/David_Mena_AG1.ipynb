{
  "nbformat": 4,
  "nbformat_minor": 0,
  "metadata": {
    "colab": {
      "name": "David Mena - AG1",
      "provenance": [],
      "include_colab_link": true
    },
    "kernelspec": {
      "name": "python3",
      "display_name": "Python 3"
    }
  },
  "cells": [
    {
      "cell_type": "markdown",
      "metadata": {
        "id": "view-in-github",
        "colab_type": "text"
      },
      "source": [
        "<a href=\"https://colab.research.google.com/github/MarceloMena/03MAIR---Algoritmos-de-Optimizacion---2019/blob/master/AG1/David_Mena_AG1.ipynb\" target=\"_parent\"><img src=\"https://colab.research.google.com/assets/colab-badge.svg\" alt=\"Open In Colab\"/></a>"
      ]
    },
    {
      "cell_type": "markdown",
      "metadata": {
        "id": "j-tcEq5o0vL2",
        "colab_type": "text"
      },
      "source": [
        "Actividad Guiada 1 de algoritmos de optimizacion\n",
        "\n",
        "David Marcelo Mena Ruiz\n",
        "\n",
        "https://colab.research.google.com/drive/1pCfTwv6Wz3OaLqVWnm89Jbdp_wze4Qhd\n"
      ]
    },
    {
      "cell_type": "code",
      "metadata": {
        "id": "fBtbN3JT2Thi",
        "colab_type": "code",
        "colab": {}
      },
      "source": [
        "from functools import wraps\n",
        "from time import time\n",
        "import random\n",
        "import numpy as np\n",
        "\n",
        "def calcular_tiempo(f):\n",
        "  @wraps(f)\n",
        "  def cronometro(*args,**kwargs):\n",
        "    t_inicial = time()\n",
        "    salida = f(*args,*kwargs)\n",
        "    t_final = time()\n",
        "    print('Tiempo transcurrido (en segundos):{}'.format(t_final - t_inicial))\n",
        "    return salida\n",
        "  return cronometro"
      ],
      "execution_count": 0,
      "outputs": []
    },
    {
      "cell_type": "code",
      "metadata": {
        "id": "2q6JD_094364",
        "colab_type": "code",
        "colab": {}
      },
      "source": [
        "A = [9187,244,4054,9222,8373,4993,5265,5470,4519,7182,2035,3506,4337,7580,2554,2824,8357,4447,7379]"
      ],
      "execution_count": 0,
      "outputs": []
    },
    {
      "cell_type": "code",
      "metadata": {
        "id": "qgbFHPow_TyE",
        "colab_type": "code",
        "colab": {}
      },
      "source": [
        "A = list(map(lambda x: random.randrange(1,10000), range(1,300)))"
      ],
      "execution_count": 0,
      "outputs": []
    },
    {
      "cell_type": "code",
      "metadata": {
        "id": "DShSURA05ghy",
        "colab_type": "code",
        "outputId": "89e815f8-c498-454a-bfae-f7de524662e7",
        "colab": {
          "base_uri": "https://localhost:8080/",
          "height": 71
        }
      },
      "source": [
        "def quick_sort(A):\n",
        "  if len(A) == 1:\n",
        "    return(A)\n",
        "  if len(A) == 2:\n",
        "    return [min(A),max(A)]\n",
        "  \n",
        "  pivote = np.mean(A)\n",
        "  izq = []\n",
        "  der = []\n",
        "  for n in A:\n",
        "    if n < pivote:\n",
        "      izq.append(n)\n",
        "    else:\n",
        "      der.append(n)\n",
        "  return quick_sort(izq) + quick_sort(der)\n",
        "\n",
        "@calcular_tiempo\n",
        "def ordenar(A):\n",
        "  return quick_sort(A)\n",
        "print(ordenar(A))"
      ],
      "execution_count": 6,
      "outputs": [
        {
          "output_type": "stream",
          "text": [
            "Tiempo transcurrido (en segundos):0.0068666934967041016\n",
            "[3, 26, 84, 147, 151, 160, 307, 317, 330, 402, 408, 449, 489, 512, 526, 533, 534, 553, 589, 636, 658, 668, 670, 678, 707, 715, 832, 950, 992, 1106, 1108, 1132, 1178, 1237, 1311, 1323, 1324, 1348, 1409, 1459, 1465, 1498, 1505, 1522, 1579, 1661, 1674, 1677, 1754, 1846, 1921, 1982, 2038, 2041, 2048, 2056, 2061, 2062, 2068, 2096, 2116, 2163, 2178, 2216, 2241, 2266, 2311, 2330, 2363, 2369, 2496, 2530, 2563, 2571, 2592, 2601, 2733, 2780, 2829, 2873, 2958, 2979, 3003, 3077, 3098, 3114, 3128, 3164, 3214, 3232, 3268, 3335, 3342, 3351, 3357, 3363, 3368, 3404, 3415, 3422, 3445, 3460, 3463, 3496, 3507, 3513, 3534, 3537, 3588, 3590, 3648, 3670, 3703, 3767, 3809, 3829, 3884, 3916, 4175, 4236, 4324, 4359, 4435, 4516, 4537, 4569, 4588, 4624, 4734, 4770, 4793, 4856, 4902, 4908, 4951, 4953, 4960, 5070, 5117, 5282, 5303, 5328, 5338, 5373, 5452, 5517, 5530, 5641, 5708, 5741, 5790, 5793, 5860, 5888, 5895, 5903, 5915, 5955, 6001, 6039, 6092, 6101, 6126, 6141, 6190, 6358, 6364, 6369, 6384, 6416, 6429, 6430, 6431, 6449, 6459, 6460, 6482, 6485, 6488, 6502, 6511, 6544, 6570, 6582, 6612, 6707, 6740, 6756, 6784, 6804, 6811, 6843, 6867, 6890, 6925, 7006, 7098, 7146, 7186, 7227, 7235, 7245, 7277, 7286, 7322, 7417, 7460, 7462, 7505, 7527, 7531, 7561, 7574, 7590, 7605, 7608, 7706, 7760, 7764, 7781, 7795, 7823, 7848, 7852, 7856, 7890, 7972, 7974, 8004, 8014, 8018, 8044, 8084, 8116, 8179, 8253, 8258, 8259, 8310, 8318, 8408, 8408, 8418, 8426, 8432, 8465, 8471, 8511, 8575, 8588, 8653, 8700, 8728, 8753, 8769, 8802, 8808, 8812, 8844, 8852, 8855, 8883, 8911, 8918, 8930, 8943, 8976, 8979, 9033, 9043, 9054, 9056, 9069, 9164, 9175, 9192, 9198, 9244, 9316, 9320, 9358, 9405, 9443, 9459, 9460, 9500, 9548, 9582, 9607, 9629, 9653, 9760, 9767, 9820, 9832, 9930, 9939, 9973, 9995]\n"
          ],
          "name": "stdout"
        }
      ]
    },
    {
      "cell_type": "code",
      "metadata": {
        "id": "2wPrwHFqEYsa",
        "colab_type": "code",
        "colab": {}
      },
      "source": [
        "@calcular_tiempo\n",
        "def cambio_monedas(cantidad, sistema_monetario):\n",
        "  SOLUCION = [0 for i in range(len(sistema_monetario))]\n",
        "  VALOR_ACUMULADO = 0\n",
        "  for i in range(len(sistema_monetario)):\n",
        "    monedas = int((cantidad - VALOR_ACUMULADO)/sistema_monetario[i])\n",
        "    SOLUCION[i] = monedas\n",
        "    VALOR_ACUMULADO = VALOR_ACUMULADO + monedas*sistema_monetario[i]\n",
        "    if VALOR_ACUMULADO == cantidad:\n",
        "      return SOLUCION"
      ],
      "execution_count": 0,
      "outputs": []
    },
    {
      "cell_type": "code",
      "metadata": {
        "id": "KJMFaEvGEY3I",
        "colab_type": "code",
        "colab": {}
      },
      "source": [
        "sistema_monetario = [50,25,10,5,1]"
      ],
      "execution_count": 0,
      "outputs": []
    },
    {
      "cell_type": "code",
      "metadata": {
        "id": "kOSlwAwqEZAS",
        "colab_type": "code",
        "outputId": "8edf0f3a-655f-4192-f8af-4e943e2255a8",
        "colab": {
          "base_uri": "https://localhost:8080/",
          "height": 51
        }
      },
      "source": [
        "cambio_monedas(91,sistema_monetario)"
      ],
      "execution_count": 9,
      "outputs": [
        {
          "output_type": "stream",
          "text": [
            "Tiempo transcurrido (en segundos):1.430511474609375e-05\n"
          ],
          "name": "stdout"
        },
        {
          "output_type": "execute_result",
          "data": {
            "text/plain": [
              "[1, 1, 1, 1, 1]"
            ]
          },
          "metadata": {
            "tags": []
          },
          "execution_count": 9
        }
      ]
    },
    {
      "cell_type": "code",
      "metadata": {
        "id": "uKCMvbK_LHgU",
        "colab_type": "code",
        "colab": {}
      },
      "source": [
        "def es_prometedora(solucion, etapa):\n",
        "  for i in range(etapa+1):\n",
        "    if solucion.count(solucion[i]) > 1:\n",
        "      return False\n",
        "    for j in range(i+1, etapa+1):\n",
        "      if abs(i-j)==abs(solucion(i)-solucion(j)):\n",
        "        return False\n",
        "      return True\n",
        "      \n",
        "def reinas(N,solucion=[],etapa = 0):\n",
        "  if len(solucion) == 0:\n",
        "    solucion = [0 for i in range(N)]\n",
        "  for i in range(1,N+1):\n",
        "    solucion[etapa] = i\n",
        "    if es_prometedora(solucion, etapa):\n",
        "      if etapa == N-1:\n",
        "        print(\"La solucion es\" , solucion)\n",
        "      else:\n",
        "        reinas(N,solucion, etapa+1)\n",
        "    else:\n",
        "      None\n",
        "reinas(4)"
      ],
      "execution_count": 0,
      "outputs": []
    },
    {
      "cell_type": "code",
      "metadata": {
        "id": "xOkEqt3zLH0h",
        "colab_type": "code",
        "colab": {}
      },
      "source": [
        "a = reinas(3)"
      ],
      "execution_count": 0,
      "outputs": []
    },
    {
      "cell_type": "code",
      "metadata": {
        "id": "1F8yS8OuJWxW",
        "colab_type": "code",
        "outputId": "f618e465-3226-4441-e9d8-fec78a2c4fcf",
        "colab": {
          "base_uri": "https://localhost:8080/",
          "height": 34
        }
      },
      "source": [
        "print(a)"
      ],
      "execution_count": 32,
      "outputs": [
        {
          "output_type": "stream",
          "text": [
            "None\n"
          ],
          "name": "stdout"
        }
      ]
    },
    {
      "cell_type": "code",
      "metadata": {
        "id": "UDH134JFJXeA",
        "colab_type": "code",
        "colab": {}
      },
      "source": [
        ""
      ],
      "execution_count": 0,
      "outputs": []
    }
  ]
}